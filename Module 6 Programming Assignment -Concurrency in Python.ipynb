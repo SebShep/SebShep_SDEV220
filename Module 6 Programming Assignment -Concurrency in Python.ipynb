{
 "cells": [
  {
   "cell_type": "code",
   "execution_count": 1,
   "id": "3b39661c-de85-4b1f-84b3-0fe33ac0f9ca",
   "metadata": {},
   "outputs": [
    {
     "name": "stdout",
     "output_type": "stream",
     "text": [
      "Date string written: 2025-07-21\n",
      "Parsed date object: 2025-07-21 (type: <class 'datetime.date'>)\n"
     ]
    }
   ],
   "source": [
    "from datetime import date, datetime\n",
    "\n",
    "def main():\n",
    "    # 1. Write the current date to today.txt in ISO format (YYYY-MM-DD)\n",
    "    today = date.today()\n",
    "    with open('today.txt', 'w') as f:\n",
    "        f.write(today.isoformat())\n",
    "\n",
    "    # 2. Read the text file today.txt into the string today_string\n",
    "    with open('today.txt', 'r') as f:\n",
    "        today_string = f.read().strip()\n",
    "\n",
    "    # 3. Parse the date from today_string back into a date object\n",
    "    parsed_date = datetime.strptime(today_string, '%Y-%m-%d').date()\n",
    "\n",
    "    # Display results\n",
    "    print(f\"Date string written: {today_string}\")\n",
    "    print(f\"Parsed date object: {parsed_date} (type: {type(parsed_date)})\")\n",
    "\n",
    "if __name__ == \"__main__\":\n",
    "    main()"
   ]
  },
  {
   "cell_type": "code",
   "execution_count": 5,
   "id": "2e543de9-1c28-4712-9d48-582ded5b9702",
   "metadata": {},
   "outputs": [],
   "source": [
    "import multiprocessing\n",
    "import random\n",
    "import time\n",
    "from datetime import datetime\n",
    "\n",
    "def worker():\n",
    "    \"\"\"Sleep a random 0–1 seconds, then print the current time.\"\"\"\n",
    "    delay = random.random()\n",
    "    time.sleep(delay)\n",
    "    now = datetime.now().isoformat(sep=' ', timespec='seconds')\n",
    "    print(f\"{multiprocessing.current_process().name} → slep {delay:.3f}s → {now}\")\n",
    "\n",
    "def main():\n",
    "    # Create and start three processes\n",
    "    processes = []\n",
    "    for i in range(3):\n",
    "        p = multiprocessing.Process(target=worker, name=f\"Process-{i+1}\")\n",
    "        processes.append(p)\n",
    "        p.start()\n",
    "\n",
    "    for p in processes:\n",
    "        p.join()\n",
    "\n",
    "if __name__ == \"__main__\":\n",
    "    main()\n"
   ]
  },
  {
   "cell_type": "code",
   "execution_count": null,
   "id": "5b97192d-fc7b-4f73-82a8-f556aae1f462",
   "metadata": {},
   "outputs": [],
   "source": []
  }
 ],
 "metadata": {
  "kernelspec": {
   "display_name": "Python [conda env:base] *",
   "language": "python",
   "name": "conda-base-py"
  },
  "language_info": {
   "codemirror_mode": {
    "name": "ipython",
    "version": 3
   },
   "file_extension": ".py",
   "mimetype": "text/x-python",
   "name": "python",
   "nbconvert_exporter": "python",
   "pygments_lexer": "ipython3",
   "version": "3.12.3"
  }
 },
 "nbformat": 4,
 "nbformat_minor": 5
}
