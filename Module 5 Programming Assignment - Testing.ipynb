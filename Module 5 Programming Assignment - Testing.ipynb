{
 "cells": [
  {
   "cell_type": "code",
   "execution_count": 11,
   "id": "727c0c97-641d-407f-9323-b6c62f94b4d5",
   "metadata": {},
   "outputs": [],
   "source": [
    "# calculator.py\n",
    "def add(a, b):\n",
    "    return a + b"
   ]
  },
  {
   "cell_type": "code",
   "execution_count": 12,
   "id": "b1948a09-0c7a-4e94-96f8-f0bbe2db14c0",
   "metadata": {},
   "outputs": [
    {
     "name": "stdout",
     "output_type": "stream",
     "text": [
      "5\n"
     ]
    }
   ],
   "source": [
    "print(add(2, 3))   # Expected output: 5"
   ]
  },
  {
   "cell_type": "code",
   "execution_count": 13,
   "id": "5db497f2-54f9-489b-a281-2e812b326b48",
   "metadata": {},
   "outputs": [
    {
     "name": "stdout",
     "output_type": "stream",
     "text": [
      "Overwriting test_add.py\n"
     ]
    }
   ],
   "source": [
    "%%writefile test_add.py\n",
    "import unittest\n",
    "\n",
    "class TestAddFunction(unittest.TestCase):\n",
    "    def test_add_positive(self):\n",
    "        self.assertEqual(add(2, 3), 5)\n",
    "\n",
    "    def test_add_negative(self):\n",
    "        self.assertEqual(add(-1, -1), -2)\n",
    "\n",
    "if __name__ == '__main__':\n",
    "    unittest.main()"
   ]
  },
  {
   "cell_type": "code",
   "execution_count": null,
   "id": "3ce7f079-a28e-4362-b5b1-b1c7b169d74d",
   "metadata": {},
   "outputs": [],
   "source": [
    "!python test_add.py"
   ]
  },
  {
   "cell_type": "code",
   "execution_count": null,
   "id": "18a2a8b6-0c80-4520-86a8-cc6577dccf7b",
   "metadata": {},
   "outputs": [],
   "source": [
    "Tests ran two checks and both passed, shown by “.. OK.” That means our add() function works as we expected."
   ]
  }
 ],
 "metadata": {
  "kernelspec": {
   "display_name": "Python [conda env:base] *",
   "language": "python",
   "name": "conda-base-py"
  },
  "language_info": {
   "codemirror_mode": {
    "name": "ipython",
    "version": 3
   },
   "file_extension": ".py",
   "mimetype": "text/x-python",
   "name": "python",
   "nbconvert_exporter": "python",
   "pygments_lexer": "ipython3",
   "version": "3.12.3"
  }
 },
 "nbformat": 4,
 "nbformat_minor": 5
}
