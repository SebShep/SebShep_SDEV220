{
 "cells": [
  {
   "cell_type": "code",
   "execution_count": 4,
   "id": "103126dd-6c9d-4dbc-9b39-392a78f1189f",
   "metadata": {},
   "outputs": [
    {
     "name": "stdout",
     "output_type": "stream",
     "text": [
      "too high\n"
     ]
    }
   ],
   "source": [
    "# 4.1 - Number Guessing Game\n",
    "secret = 7\n",
    "guess = 5\n",
    "\n",
    "if guess < secret:\n",
    "    print(\"too low\")\n",
    "elif guess > secret:\n",
    "    print(\"too high\")\n",
    "else:\n",
    "    print(\"just right\")\n"
   ]
  },
  {
   "cell_type": "code",
   "execution_count": 5,
   "id": "76efa4df-ed39-439b-8a64-a79305fdd77b",
   "metadata": {},
   "outputs": [
    {
     "name": "stdout",
     "output_type": "stream",
     "text": [
      "pea\n"
     ]
    }
   ],
   "source": [
    "# 4.2 - Match Fruit Based on small and green\n",
    "small = True\n",
    "green = True\n",
    "\n",
    "if small and green:\n",
    "    print(\"pea\")\n",
    "elif small and not green:\n",
    "    print(\"cherry\")\n",
    "elif not small and green:\n",
    "    print(\"watermelon\")\n",
    "else:\n",
    "    print(\"pumpkin\")\n"
   ]
  },
  {
   "cell_type": "code",
   "execution_count": 6,
   "id": "ef414c26-aa46-4a30-a60e-db7fa678bc90",
   "metadata": {},
   "outputs": [
    {
     "name": "stdout",
     "output_type": "stream",
     "text": [
      "3\n",
      "2\n",
      "1\n",
      "0\n"
     ]
    }
   ],
   "source": [
    "# 6.1 - For loop to print values from the list\n",
    "for value in [3, 2, 1, 0]:\n",
    "    print(value)\n"
   ]
  },
  {
   "cell_type": "code",
   "execution_count": 7,
   "id": "4a898a24-96b7-4751-bb0b-7fa7faee8172",
   "metadata": {},
   "outputs": [
    {
     "name": "stdout",
     "output_type": "stream",
     "text": [
      "too low\n",
      "too low\n",
      "too low\n",
      "too low\n",
      "too low\n",
      "too low\n",
      "found it!\n"
     ]
    }
   ],
   "source": [
    "# 6.2 - While loop to compare number with guess_me\n",
    "guess_me = 7\n",
    "number = 1\n",
    "\n",
    "while True:\n",
    "    if number < guess_me:\n",
    "        print(\"too low\")\n",
    "    elif number == guess_me:\n",
    "        print(\"found it!\")\n",
    "        break\n",
    "    else:\n",
    "        print(\"oops\")\n",
    "        break\n",
    "    number += 1\n"
   ]
  },
  {
   "cell_type": "code",
   "execution_count": 10,
   "id": "9dd8ed71-2f9e-492a-a55a-683b47a45acd",
   "metadata": {},
   "outputs": [
    {
     "name": "stdout",
     "output_type": "stream",
     "text": [
      "too low\n",
      "too low\n",
      "too low\n",
      "too low\n",
      "found it!\n"
     ]
    }
   ],
   "source": [
    "# 6.3 - For loop with conditions using range\n",
    "guess_me = 4\n",
    "\n",
    "for number in range(10):\n",
    "    if number < guess_me:\n",
    "        print(\"too low\")\n",
    "    elif number == guess_me:\n",
    "        print(\"found it!\")\n",
    "        break\n",
    "    else:\n",
    "        print(\"oops\")\n",
    "        break\n"
   ]
  },
  {
   "cell_type": "code",
   "execution_count": null,
   "id": "bb1a8ce1-f155-4317-8a64-ca70bca7c968",
   "metadata": {},
   "outputs": [],
   "source": [
    "def hours():\n",
    "    print('Open 9-5 daily')\n",
    "#$ python --input in terminal w.o \"#\""
   ]
  },
  {
   "cell_type": "code",
   "execution_count": null,
   "id": "1e8e9708-78fb-450a-a979-2c6ce3049772",
   "metadata": {},
   "outputs": [],
   "source": [
    ">>> import zoo as menagerie\n",
    ">>> menagerie.hours()\n",
    "Open 9-5 daily"
   ]
  },
  {
   "cell_type": "code",
   "execution_count": null,
   "id": "d381ee01-de6b-453f-ae8f-dd6318edc75a",
   "metadata": {},
   "outputs": [],
   "source": [
    ">>> import zoo\n",
    ">>> zoo.hours()\n",
    "Open 9-5 daily"
   ]
  },
  {
   "cell_type": "code",
   "execution_count": 2,
   "id": "d88e6582-42a0-4381-a9eb-a04b92042e4e",
   "metadata": {},
   "outputs": [
    {
     "name": "stdout",
     "output_type": "stream",
     "text": [
      "books.db created and 'books' table initialized.\n"
     ]
    }
   ],
   "source": [
    "# Assistant\n",
    "import sqlite3\n",
    "\n",
    "# Connect to (or create) the SQLite database file\n",
    "conn = sqlite3.connect('books.db')\n",
    "cursor = conn.cursor()\n",
    "\n",
    "# Create the books table\n",
    "cursor.execute('''\n",
    "    CREATE TABLE IF NOT EXISTS books (\n",
    "        title TEXT,\n",
    "        author TEXT,\n",
    "        year INTEGER\n",
    "    )\n",
    "''')\n",
    "\n",
    "# Save (commit) the changes and close the connection\n",
    "conn.commit()\n",
    "conn.close()\n",
    "\n",
    "print(\"books.db created and 'books' table initialized.\")\n",
    "\n",
    "from sqlalchemy import create_engine, MetaData, Table, select\n",
    "\n",
    "# 1. Connect to the existing SQLite database\n",
    "engine = create_engine('sqlite:///books.db')\n",
    "\n",
    "# 2. Reflect the 'books' table from the DB (changed from 'book' to 'books')\n",
    "metadata = MetaData()\n",
    "book_table = Table('books', metadata, autoload_with=engine)  # Changed 'book' to 'books' to match the table name created earlier\n",
    "\n",
    "# 3. Build a SELECT statement for the title column, ordered alphabetically\n",
    "stmt = select(book_table.c.title).order_by(book_table.c.title)\n",
    "\n",
    "# 4. Execute and print each title\n",
    "with engine.connect() as conn:\n",
    "    for row in conn.execute(stmt):\n",
    "        print(row.title)"
   ]
  },
  {
   "cell_type": "code",
   "execution_count": null,
   "id": "cf3cc868-1281-4f69-8afb-66d6de8c8990",
   "metadata": {},
   "outputs": [],
   "source": []
  }
 ],
 "metadata": {
  "kernelspec": {
   "display_name": "Python [conda env:base] *",
   "language": "python",
   "name": "conda-base-py"
  },
  "language_info": {
   "codemirror_mode": {
    "name": "ipython",
    "version": 3
   },
   "file_extension": ".py",
   "mimetype": "text/x-python",
   "name": "python",
   "nbconvert_exporter": "python",
   "pygments_lexer": "ipython3",
   "version": "3.12.3"
  }
 },
 "nbformat": 4,
 "nbformat_minor": 5
}
